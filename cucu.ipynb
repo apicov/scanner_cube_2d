{
 "cells": [
  {
   "cell_type": "code",
   "execution_count": 1,
   "id": "stuck-estonia",
   "metadata": {
    "ExecuteTime": {
     "end_time": "2022-05-09T20:42:09.320533Z",
     "start_time": "2022-05-09T20:42:07.737399Z"
    }
   },
   "outputs": [
    {
     "name": "stdout",
     "output_type": "stream",
     "text": [
      "GPUs:  1\n"
     ]
    }
   ],
   "source": [
    "import numpy as np\n",
    "import json\n",
    "import tensorflow as tf\n",
    "import os\n",
    "import sys\n",
    "\n",
    "import time\n",
    "%matplotlib inline\n",
    "import matplotlib\n",
    "import matplotlib.pyplot as plt\n",
    "import gym\n",
    "\n",
    "import tensorflow as tf\n",
    "\n",
    "gpus = tf.config.experimental.list_physical_devices('GPU')\n",
    "if gpus:\n",
    "  try:\n",
    "    tf.config.experimental.set_virtual_device_configuration(gpus[0], \n",
    "    [tf.config.experimental.VirtualDeviceConfiguration(memory_limit=256)])\n",
    "  except RuntimeError as e:\n",
    "    print(e)\n",
    "    \n",
    "     \n",
    "print(\"GPUs: \", len(tf.config.experimental.list_physical_devices('GPU')))\n",
    "tf.config.experimental.list_logical_devices('GPU')\n",
    "\n",
    "import tf_agents\n",
    "from tf_agents.environments import py_environment, parallel_py_environment, batched_py_environment\n",
    "from tf_agents.environments import tf_environment\n",
    "from tf_agents.environments import tf_py_environment\n",
    "from tf_agents.environments import utils\n",
    "from tf_agents.specs import array_spec\n",
    "from tf_agents.environments import wrappers\n",
    "from tf_agents.environments import suite_gym\n",
    "from tf_agents.trajectories import time_step as ts\n",
    "from tf_agents.networks.q_network import QNetwork\n",
    "from tf_agents.agents.dqn.dqn_agent import DqnAgent\n",
    "from tf_agents.replay_buffers import tf_uniform_replay_buffer\n",
    "from tf_agents.metrics import tf_metrics\n",
    "#from tf_agents.drivers.dynamic_step_driver import DynamicStepDriver\n",
    "from tf_agents.drivers.dynamic_episode_driver import DynamicEpisodeDriver\n",
    "from tf_agents.policies.random_tf_policy import RandomTFPolicy\n",
    "from tf_agents.utils.common import function, element_wise_squared_loss\n",
    "from tf_agents.eval.metric_utils import log_metrics\n",
    "from tf_agents.policies import policy_saver\n",
    "import logging\n",
    "\n",
    "import tensorflow.keras as keras\n",
    "\n",
    "tf.compat.v1.enable_v2_behavior()\n",
    "import time\n",
    "import json\n",
    "import datetime\n",
    "import copy\n",
    "\n",
    "from scan_gym import envs\n",
    "seed=42\n",
    "tf.random.set_seed(seed)\n",
    "np.random.seed(seed)\n",
    "\n",
    "#import imp\n",
    "#import test as nntools\n",
    "#imp.reload(nntools)\n",
    "import csv\n",
    "import json\n",
    "import copy\n",
    "\n",
    "from utils import policy_test"
   ]
  },
  {
   "cell_type": "code",
   "execution_count": 2,
   "id": "solid-commitment",
   "metadata": {
    "ExecuteTime": {
     "end_time": "2022-05-09T20:42:09.324350Z",
     "start_time": "2022-05-09T20:42:09.321387Z"
    }
   },
   "outputs": [
    {
     "data": {
      "text/plain": [
       "'/home/pico/uni/romi/scanner_cube_2d'"
      ]
     },
     "execution_count": 2,
     "metadata": {},
     "output_type": "execute_result"
    }
   ],
   "source": [
    "os.getcwd()"
   ]
  },
  {
   "cell_type": "code",
   "execution_count": 3,
   "id": "empirical-arabic",
   "metadata": {
    "ExecuteTime": {
     "end_time": "2022-05-09T20:42:09.722943Z",
     "start_time": "2022-05-09T20:42:09.325155Z"
    }
   },
   "outputs": [],
   "source": [
    "models_path  = '/home/pico/uni/romi/scanner-gym_models'\n",
    "models = ['207_2d','208_2d','209_2d','210_2d','211_2d']\n",
    "n_images = 8\n",
    "continuous = False\n",
    "\n",
    "policy_name ='20220505-214345'\n",
    "policies_path = '/home/pico/uni/romi/scanner_cube_2d/generated_data/policies'\n",
    "policy = tf.compat.v2.saved_model.load(os.path.join(policies_path,policy_name))"
   ]
  },
  {
   "cell_type": "code",
   "execution_count": null,
   "id": "similar-completion",
   "metadata": {},
   "outputs": [],
   "source": []
  },
  {
   "cell_type": "code",
   "execution_count": 4,
   "id": "metric-audit",
   "metadata": {
    "ExecuteTime": {
     "end_time": "2022-05-09T20:42:10.610922Z",
     "start_time": "2022-05-09T20:42:09.723861Z"
    }
   },
   "outputs": [],
   "source": [
    "scan_env = suite_gym.load('ScannerEnv-v1',gym_kwargs={'models_path':models_path, 'train_models':[models[0]],\n",
    "                                                   'n_images':n_images, 'continuous':False,\n",
    "                                                   'gt_mode':True,'cube_view':'static'})\n",
    "        \n",
    "tf_env = tf_py_environment.TFPyEnvironment( scan_env )"
   ]
  },
  {
   "cell_type": "code",
   "execution_count": 5,
   "id": "million-fighter",
   "metadata": {
    "ExecuteTime": {
     "end_time": "2022-05-09T20:42:17.907823Z",
     "start_time": "2022-05-09T20:42:10.611975Z"
    }
   },
   "outputs": [
    {
     "name": "stdout",
     "output_type": "stream",
     "text": [
      "plant-207_2d 4     \n",
      "207_2d rwd_mean 0.3647 rwd_std 0.0414 gt_ratio_mean 0.5750 gt_ratio_std 0.0562\n",
      "plant-208_2d 4     \n",
      "208_2d rwd_mean 0.1577 rwd_std 0.0650 gt_ratio_mean 0.2883 gt_ratio_std 0.0592\n",
      "plant-209_2d 4     \n",
      "209_2d rwd_mean 0.4502 rwd_std 0.0378 gt_ratio_mean 0.5304 gt_ratio_std 0.0479\n",
      "plant-210_2d 4     \n",
      "210_2d rwd_mean 0.1828 rwd_std 0.0545 gt_ratio_mean 0.3056 gt_ratio_std 0.0629\n",
      "plant-211_2d 4     \n",
      "211_2d rwd_mean 0.5028 rwd_std 0.1645 gt_ratio_mean 0.5650 gt_ratio_std 0.1475\n"
     ]
    }
   ],
   "source": [
    "policy_test.test_policy(models_path=models_path, models=models, policy=policy,\n",
    "                        n_images=n_images, n_episodes = 5, dest_path='./aqui.json' )"
   ]
  },
  {
   "cell_type": "code",
   "execution_count": 6,
   "id": "pharmaceutical-improvement",
   "metadata": {
    "ExecuteTime": {
     "end_time": "2022-05-09T20:16:15.942902Z",
     "start_time": "2022-05-09T20:16:15.565735Z"
    }
   },
   "outputs": [],
   "source": [
    "actions, images, theta_bias, rewards, t_rwd, gt_ratio = policy_test.run_episode(scan_env,tf_env,policy)"
   ]
  },
  {
   "cell_type": "code",
   "execution_count": 6,
   "id": "genetic-carry",
   "metadata": {
    "ExecuteTime": {
     "end_time": "2022-05-09T19:34:24.841003Z",
     "start_time": "2022-05-09T19:34:24.835712Z"
    }
   },
   "outputs": [
    {
     "name": "stdout",
     "output_type": "stream",
     "text": [
      "[16, 5, 19, 12, 7, 7, 18] [[14, 2], [39, 2], [84, 0], [89, 3], [91, 2], [96, 1], [101, 1], [103, 3]] 71 [0.01827236, 0.08378537, 0.1683731, 0.052878782, 0.01866232, 0.0116907125, 0.0050452724] 0.3587079126138226 0.5513073005093378\n"
     ]
    }
   ],
   "source": [
    "print(actions, images, theta_bias,rewards, t_rwd, gt_ratio )"
   ]
  },
  {
   "cell_type": "code",
   "execution_count": 11,
   "id": "composed-delicious",
   "metadata": {
    "ExecuteTime": {
     "end_time": "2022-05-09T19:04:23.848039Z",
     "start_time": "2022-05-09T19:04:21.241956Z"
    }
   },
   "outputs": [],
   "source": [
    "action_step = policy.action(state)\n",
    "state = tf_env.step(action_step.action)"
   ]
  },
  {
   "cell_type": "code",
   "execution_count": 14,
   "id": "atomic-committee",
   "metadata": {
    "ExecuteTime": {
     "end_time": "2022-05-09T19:06:35.767210Z",
     "start_time": "2022-05-09T19:06:35.761477Z"
    }
   },
   "outputs": [
    {
     "data": {
      "text/plain": [
       "0.01827236"
      ]
     },
     "execution_count": 14,
     "metadata": {},
     "output_type": "execute_result"
    }
   ],
   "source": [
    "state.reward.numpy()[0]"
   ]
  },
  {
   "cell_type": "code",
   "execution_count": null,
   "id": "olympic-testing",
   "metadata": {},
   "outputs": [],
   "source": [
    "def run_episode(env,tf_env,policy):\n",
    "    state = tf_env.reset()\n",
    "    time_steps = 40\n",
    "    actions = []\n",
    "    images = []\n",
    "    rewards = []\n",
    "    images.append([env.current_theta,env.current_phi])\n",
    "    for i in range(1,time_steps):\n",
    "        action_step = policy.action(state)\n",
    "        actions.append(int(action_step.action.numpy()[0]))\n",
    "        state = tf_env.step(action_step.action)\n",
    "        images.append([env.current_theta,env.current_phi])\n",
    "        if state.is_last():\n",
    "            break\n",
    "    return actions, images, env.theta_bias, env.total_reward , env.last_gt_ratio"
   ]
  },
  {
   "cell_type": "code",
   "execution_count": null,
   "id": "confirmed-printing",
   "metadata": {},
   "outputs": [],
   "source": []
  },
  {
   "cell_type": "code",
   "execution_count": null,
   "id": "atlantic-groove",
   "metadata": {},
   "outputs": [],
   "source": []
  },
  {
   "cell_type": "code",
   "execution_count": null,
   "id": "sublime-reward",
   "metadata": {
    "ExecuteTime": {
     "end_time": "2022-05-09T17:32:47.762314Z",
     "start_time": "2022-05-09T17:32:47.755592Z"
    }
   },
   "outputs": [],
   "source": [
    "data_template = {'actions':[],'images':[],'position_bias':[],'return':[],'gt_ratio':[],'empty_vox':[],\n",
    "                 'ind_vox':[],'solid_vox':[],'gt_ratio_mean':0.0,'gt_ratio_std':0}"
   ]
  },
  {
   "cell_type": "code",
   "execution_count": null,
   "id": "transparent-prior",
   "metadata": {},
   "outputs": [],
   "source": [
    "def run_episode(env,tf_env,policy):\n",
    "    state = tf_env.reset()\n",
    "    time_steps = 40\n",
    "    actions = []\n",
    "    for i in range(1,time_steps):\n",
    "        action_step = policy.action(state)\n",
    "        actions.append(int(action_step.action.numpy()[0]))\n",
    "        state = tf_env.step(action_step.action)\n",
    "        if state.is_last():\n",
    "            break\n",
    "    return actions, env.kept_images, env.position_bias, env.total_reward , env.last_gt_ratio , env.h"
   ]
  },
  {
   "cell_type": "code",
   "execution_count": null,
   "id": "bronze-leeds",
   "metadata": {
    "ExecuteTime": {
     "end_time": "2022-05-09T17:32:50.003598Z",
     "start_time": "2022-05-09T17:32:49.721675Z"
    }
   },
   "outputs": [],
   "source": [
    "policy_name ='20220505-214345'\n",
    "policies_path = '/home/pico/uni/romi/scanner_cube_2d/generated_data/policies'\n",
    "models_path  = '/home/pico/uni/romi/scanner-gym_models'\n",
    "models = ['207_2d','208_2d','209_2d','210_2d','211_2d']\n",
    "n_images = 8\n",
    "\n",
    "policy = tf.compat.v2.saved_model.load(os.path.join(policies_path,policy_name))"
   ]
  },
  {
   "cell_type": "code",
   "execution_count": null,
   "id": "owned-listening",
   "metadata": {},
   "outputs": [],
   "source": [
    "collected_data = {}\n",
    "\n",
    "for p in plant_models:\n",
    "    #load environment with selected plant model\n",
    "    env = suite_gym.load('ScannerEnv-v1',\n",
    "    gym_kwargs={'dataset_path':os.path.join(plant_models_path,str(p).zfill(3)),'gt_mode':True,'init_pos_inc_rst':True}) \n",
    "    tf_env = tf_py_environment.TFPyEnvironment( env )\n",
    "    #run 180 times (rotating model one step each time)\n",
    "    data_holder = copy.deepcopy(data_template)\n",
    "    \n",
    "    for i in range(180):\n",
    "        actions, images, position_bias, t_return, gt_ratio , histogram = run_episode(env,tf_env,policy)\n",
    "        data_holder['actions'].append(actions)\n",
    "        data_holder['images'].append(images)\n",
    "        data_holder['position_bias'].append(position_bias)\n",
    "        data_holder['return'].append(t_return)\n",
    "        data_holder['gt_ratio'].append(gt_ratio)\n",
    "        data_holder['empty_vox'].append(histogram[0])\n",
    "        data_holder['ind_vox'].append(histogram[1])\n",
    "        data_holder['solid_vox'].append(histogram[2])\n",
    "        print(\"\\rplant-{} {}     \".format(str(p).zfill(3), i), end=\"\")\n",
    "    \n",
    "    data_holder['gt_ratio_mean'] = float(np.mean(data_holder['gt_ratio']))\n",
    "    data_holder['gt_ratio_std'] = float(np.std(data_holder['gt_ratio']))\n",
    "    collected_data[str(p).zfill(3)] = copy.deepcopy(data_holder)\n",
    "    print(\"\\rplant-{} gt_mean {}   gt_std {}            \".format(str(p).zfill(3),data_holder['gt_ratio_mean'],data_holder['gt_ratio_std']))"
   ]
  },
  {
   "cell_type": "code",
   "execution_count": null,
   "id": "exterior-registration",
   "metadata": {},
   "outputs": [],
   "source": [
    "dest_path = '/home/pico/uni/romi/desktop_scanner_cube_repo/scanner_cube'\n",
    "f = open(os.path.join(dest_path,\"test_\" + policy_name+ \".json\"),'w')\n",
    "json.dump(collected_data, f)\n",
    "f.close()"
   ]
  },
  {
   "cell_type": "code",
   "execution_count": null,
   "id": "radical-february",
   "metadata": {},
   "outputs": [],
   "source": [
    "with open('/home/pico/uni/romi/scanner_cube/uni_rnd_policy_runs_10__.json') as f:\n",
    "    comp = json.load(f)"
   ]
  },
  {
   "cell_type": "code",
   "execution_count": null,
   "id": "global-frost",
   "metadata": {},
   "outputs": [],
   "source": [
    "for p in plant_models:\n",
    "    plant = str(p).zfill(3)\n",
    "    print(\"plant-{} uni_mean {:.5f} uni_std {:.5f} rnd_mean {:.5f} rnd_std {:.5f}\".format(plant,\n",
    "            comp[plant]['uni']['gt_mean'], comp[plant]['uni']['gt_std'],\n",
    "            comp[plant]['rnd']['gt_mean'], comp[plant]['rnd']['gt_std']))"
   ]
  },
  {
   "cell_type": "code",
   "execution_count": null,
   "id": "defined-attribute",
   "metadata": {},
   "outputs": [],
   "source": [
    "def run_episode(env,tf_env,policy):\n",
    "    state = tf_env.reset()\n",
    "    time_steps = 40\n",
    "    actions = []\n",
    "    for i in range(1,time_steps):\n",
    "        action_step = policy.action(state)\n",
    "        actions.append(int(action_step.action.numpy()[0]))\n",
    "        state = tf_env.step(action_step.action)\n",
    "        if state.is_last():\n",
    "            break\n",
    "    return actions, env.kept_images, env.position_bias, env.total_reward , env.last_gt_ratio , env.hb"
   ]
  },
  {
   "cell_type": "code",
   "execution_count": null,
   "id": "organic-mercury",
   "metadata": {
    "ExecuteTime": {
     "end_time": "2022-05-09T17:35:34.603688Z",
     "start_time": "2022-05-09T17:35:34.548145Z"
    }
   },
   "outputs": [],
   "source": [
    "scan_env = suite_gym.load('ScannerEnv-v1',gym_kwargs={'models_path':models_path, 'train_models':['206_2d'],\n",
    "                                                   'n_images':n_images, 'continuous':False,\n",
    "                                                   'gt_mode':True,'cube_view':'static'})\n",
    "\n",
    "tf_env = tf_py_environment.TFPyEnvironment( scan_env )"
   ]
  },
  {
   "cell_type": "code",
   "execution_count": null,
   "id": "purple-brazilian",
   "metadata": {
    "ExecuteTime": {
     "end_time": "2022-05-09T17:36:20.629774Z",
     "start_time": "2022-05-09T17:36:20.621453Z"
    }
   },
   "outputs": [],
   "source": [
    "tf_env.reset(theta_init=0)"
   ]
  },
  {
   "cell_type": "code",
   "execution_count": null,
   "id": "absent-gravity",
   "metadata": {},
   "outputs": [],
   "source": []
  }
 ],
 "metadata": {
  "kernelspec": {
   "display_name": "rl",
   "language": "python",
   "name": "rl"
  },
  "language_info": {
   "codemirror_mode": {
    "name": "ipython",
    "version": 3
   },
   "file_extension": ".py",
   "mimetype": "text/x-python",
   "name": "python",
   "nbconvert_exporter": "python",
   "pygments_lexer": "ipython3",
   "version": "3.8.8"
  }
 },
 "nbformat": 4,
 "nbformat_minor": 5
}
