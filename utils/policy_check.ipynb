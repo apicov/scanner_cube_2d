{
 "cells": [
  {
   "cell_type": "code",
   "execution_count": 1,
   "id": "organizational-radius",
   "metadata": {
    "ExecuteTime": {
     "end_time": "2022-05-27T23:42:08.169484Z",
     "start_time": "2022-05-27T23:42:06.545619Z"
    }
   },
   "outputs": [
    {
     "name": "stdout",
     "output_type": "stream",
     "text": [
      "GPUs:  1\n"
     ]
    }
   ],
   "source": [
    "%reload_ext tensorboard\n",
    "import numpy as np\n",
    "import json\n",
    "import tensorflow as tf\n",
    "import os\n",
    "\n",
    "import time\n",
    "%matplotlib inline\n",
    "import matplotlib\n",
    "import matplotlib.pyplot as plt\n",
    "import gym\n",
    "\n",
    "import tensorflow as tf\n",
    "\n",
    "gpus = tf.config.experimental.list_physical_devices('GPU')\n",
    "#tf.config.experimental.set_memory_growth(gpus[0], True)\n",
    "if gpus:\n",
    "  try:\n",
    "    tf.config.experimental.set_virtual_device_configuration(gpus[0], \n",
    "    [tf.config.experimental.VirtualDeviceConfiguration(memory_limit=512)])\n",
    "  except RuntimeError as e:\n",
    "    print(e)\n",
    "    \n",
    "    \n",
    "print(\"GPUs: \", len(tf.config.experimental.list_physical_devices('GPU')))\n",
    "tf.config.experimental.list_logical_devices('GPU')\n",
    "\n",
    "import tf_agents\n",
    "from tf_agents.networks import categorical_q_network\n",
    "from tf_agents.agents.categorical_dqn import categorical_dqn_agent\n",
    "from tf_agents.environments import py_environment, parallel_py_environment, batched_py_environment\n",
    "from tf_agents.environments import tf_environment\n",
    "from tf_agents.environments import tf_py_environment\n",
    "from tf_agents.environments import utils\n",
    "from tf_agents.specs import array_spec\n",
    "from tf_agents.environments import wrappers\n",
    "from tf_agents.environments import suite_gym\n",
    "from tf_agents.trajectories import time_step as ts\n",
    "from tf_agents.networks.q_network import QNetwork\n",
    "from tf_agents.agents.dqn.dqn_agent import DqnAgent\n",
    "from tf_agents.replay_buffers import tf_uniform_replay_buffer\n",
    "from tf_agents.metrics import tf_metrics\n",
    "from tf_agents.drivers.dynamic_step_driver import DynamicStepDriver\n",
    "from tf_agents.policies.random_tf_policy import RandomTFPolicy\n",
    "from tf_agents.utils.common import function, element_wise_squared_loss\n",
    "from tf_agents.eval.metric_utils import log_metrics\n",
    "from tf_agents.policies import policy_saver\n",
    "import logging\n",
    "\n",
    "import tensorflow.keras as keras\n",
    "\n",
    "tf.compat.v1.enable_v2_behavior()\n",
    "import time\n",
    "import json\n",
    "import datetime\n",
    "import copy\n",
    "import shutil\n",
    "\n",
    "#import imp\n",
    "from scan_gym import envs\n",
    "#imp.reload(envs)\n",
    "import csv\n",
    "\n",
    "seed=42\n",
    "tf.random.set_seed(seed)\n",
    "np.random.seed(seed)\n",
    "\n",
    "import policy_test"
   ]
  },
  {
   "cell_type": "code",
   "execution_count": 2,
   "id": "manufactured-brazilian",
   "metadata": {
    "ExecuteTime": {
     "end_time": "2022-05-27T23:42:08.289969Z",
     "start_time": "2022-05-27T23:42:08.170563Z"
    }
   },
   "outputs": [],
   "source": [
    "policy_name ='20220528-013528'\n",
    "policies_path = '/home/pico/uni/romi/scanner_cube_2d_ev_reward/generated_data/policies'\n",
    "policy = tf.compat.v2.saved_model.load(os.path.join(policies_path,policy_name))"
   ]
  },
  {
   "cell_type": "code",
   "execution_count": 3,
   "id": "pleasant-brother",
   "metadata": {
    "ExecuteTime": {
     "end_time": "2022-05-27T23:42:09.216175Z",
     "start_time": "2022-05-27T23:42:08.290797Z"
    }
   },
   "outputs": [],
   "source": [
    "models_path  = '/home/pico/uni/romi/scanner-gym_models_v2'\n",
    "models = ['207_2d','208_2d','209_2d','210_2d','211_2d']\n",
    "'''train_models = ['207_2d','208_2d','209_2d', '210_2d',\n",
    "               '211_2d','212_2d','213_2d' ,'214_2d']'''\n",
    "train_models = ['218_2d']\n",
    "n_images = 10\n",
    "continuous = False\n",
    "\n",
    "#scan_env = gym.make('ScannerEnv-v1', models_path=models_path, train_models=models,\n",
    "#                   n_images = n_images, continuous=continuous, gt_mode=True, cube_view='static')\n",
    "\n",
    "env = suite_gym.load('ScannerEnv-v1',gym_kwargs={'models_path':models_path, 'train_models':train_models,\n",
    "                                                   'n_images':n_images, 'continuous':continuous,\n",
    "                                                   'gt_mode':True,'cube_view':'dynamic'}) \n",
    "\n",
    "tf_env =  tf_py_environment.TFPyEnvironment( env )"
   ]
  },
  {
   "cell_type": "code",
   "execution_count": 5,
   "id": "rural-poster",
   "metadata": {
    "ExecuteTime": {
     "end_time": "2022-05-27T23:42:29.780876Z",
     "start_time": "2022-05-27T23:42:29.506716Z"
    }
   },
   "outputs": [
    {
     "data": {
      "text/plain": [
       "([1, 1, 1, 1, 1, 1, 1, 4, 4],\n",
       " [[0, 0],\n",
       "  [1, 0],\n",
       "  [2, 0],\n",
       "  [3, 0],\n",
       "  [4, 0],\n",
       "  [5, 0],\n",
       "  [6, 0],\n",
       "  [7, 0],\n",
       "  [13, 0],\n",
       "  [19, 0]],\n",
       " 0,\n",
       " [0.7709497213363647,\n",
       "  0.7765362858772278,\n",
       "  0.7821229100227356,\n",
       "  0.7877094745635986,\n",
       "  0.7932960987091064,\n",
       "  0.7988826632499695,\n",
       "  0.8044692873954773,\n",
       "  0.8379888534545898,\n",
       "  0.8715083599090576],\n",
       " 7.223463687150838,\n",
       " 0.31659512593492617)"
      ]
     },
     "execution_count": 5,
     "metadata": {},
     "output_type": "execute_result"
    }
   ],
   "source": [
    "policy_test.run_episode(env,tf_env,policy) "
   ]
  },
  {
   "cell_type": "code",
   "execution_count": null,
   "id": "conservative-computer",
   "metadata": {},
   "outputs": [],
   "source": []
  },
  {
   "cell_type": "code",
   "execution_count": null,
   "id": "governing-qualification",
   "metadata": {},
   "outputs": [],
   "source": []
  }
 ],
 "metadata": {
  "kernelspec": {
   "display_name": "Python [conda env:rl] *",
   "language": "python",
   "name": "conda-env-rl-py"
  },
  "language_info": {
   "codemirror_mode": {
    "name": "ipython",
    "version": 3
   },
   "file_extension": ".py",
   "mimetype": "text/x-python",
   "name": "python",
   "nbconvert_exporter": "python",
   "pygments_lexer": "ipython3",
   "version": "3.8.8"
  }
 },
 "nbformat": 4,
 "nbformat_minor": 5
}
