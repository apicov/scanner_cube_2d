{
 "cells": [
  {
   "cell_type": "code",
   "execution_count": null,
   "metadata": {},
   "outputs": [],
   "source": [
    "%reload_ext tensorboard\n",
    "import numpy as np\n",
    "import json\n",
    "import tensorflow as tf\n",
    "import os\n",
    "\n",
    "import time\n",
    "%matplotlib inline\n",
    "import matplotlib\n",
    "import matplotlib.pyplot as plt\n",
    "import gym\n",
    "\n",
    "import tensorflow as tf\n",
    "\n",
    "gpus = tf.config.experimental.list_physical_devices('GPU')\n",
    "#tf.config.experimental.set_memory_growth(gpus[0], True)\n",
    "if gpus:\n",
    "  try:\n",
    "    tf.config.experimental.set_virtual_device_configuration(gpus[0], \n",
    "    [tf.config.experimental.VirtualDeviceConfiguration(memory_limit=9000)])\n",
    "  except RuntimeError as e:\n",
    "    print(e)\n",
    "    \n",
    "    \n",
    "print(\"GPUs: \", len(tf.config.experimental.list_physical_devices('GPU')))\n",
    "tf.config.experimental.list_logical_devices('GPU')\n",
    "\n",
    "import tf_agents\n",
    "from tf_agents.networks import categorical_q_network\n",
    "from tf_agents.agents.categorical_dqn import categorical_dqn_agent\n",
    "from tf_agents.environments import py_environment, parallel_py_environment, batched_py_environment\n",
    "from tf_agents.environments import tf_environment\n",
    "from tf_agents.environments import tf_py_environment\n",
    "from tf_agents.environments import utils\n",
    "from tf_agents.specs import array_spec\n",
    "from tf_agents.environments import wrappers\n",
    "from tf_agents.environments import suite_gym\n",
    "from tf_agents.trajectories import time_step as ts\n",
    "from tf_agents.networks.q_network import QNetwork\n",
    "from tf_agents.agents.dqn.dqn_agent import DqnAgent\n",
    "from tf_agents.replay_buffers import tf_uniform_replay_buffer\n",
    "from tf_agents.metrics import tf_metrics\n",
    "from tf_agents.drivers.dynamic_step_driver import DynamicStepDriver\n",
    "from tf_agents.policies.random_tf_policy import RandomTFPolicy\n",
    "from tf_agents.utils.common import function, element_wise_squared_loss\n",
    "from tf_agents.eval.metric_utils import log_metrics\n",
    "from tf_agents.policies import policy_saver\n",
    "import logging\n",
    "\n",
    "import tensorflow.keras as keras\n",
    "\n",
    "tf.compat.v1.enable_v2_behavior()\n",
    "import time\n",
    "import json\n",
    "import datetime\n",
    "import copy\n",
    "import shutil\n",
    "\n",
    "#import imp\n",
    "from scan_gym import envs\n",
    "#imp.reload(envs)\n",
    "import csv\n",
    "\n",
    "seed=42\n",
    "tf.random.set_seed(seed)\n",
    "np.random.seed(seed)"
   ]
  },
  {
   "cell_type": "code",
   "execution_count": null,
   "metadata": {},
   "outputs": [],
   "source": [
    "current_path = os.getcwd()\n",
    "params_file = os.path.join(current_path, 'params.json') \n",
    "pm=json.load(open(params_file))\n",
    "run_label = datetime.datetime.now().strftime(\"%Y%m%d-%H%M%S\")\n",
    "data_log_path = os.path.join(current_path, 'generated_data/') "
   ]
  },
  {
   "cell_type": "code",
   "execution_count": null,
   "metadata": {},
   "outputs": [],
   "source": [
    "'''pt = '028'\n",
    "data_paths = ['/home/pico/uni/romi/scanner_cube/arabidopsis_im_bigger/ramdisk/'+pt,\n",
    "              '/home/pico/uni/romi/scanner_cube/arabidopsis_im_bigger/ramdisk/'+pt,\n",
    "             '/home/pico/uni/romi/scanner_cube/arabidopsis_im_bigger/ramdisk/'+pt,\n",
    "            '/home/pico/uni/romi/scanner_cube/arabidopsis_im_bigger/ramdisk/'+pt]'''\n",
    "\n",
    "'''data_paths = ['/home/pico/uni/romi/scanner_cube/arabidopsis_im_bigger/001',\n",
    "              '/home/pico/uni/romi/scanner_cube/arabidopsis_im_bigger/003',\n",
    "             '/home/pico/uni/romi/scanner_cube/arabidopsis_im_bigger/025',\n",
    "              '/home/pico/uni/romi/scanner_cube/arabidopsis_im_bigger/039',\n",
    "              '/home/pico/uni/romi/scanner_cube/arabidopsis_im_bigger/041',\n",
    "              \n",
    "             '/home/pico/uni/romi/scanner_cube/arabidopsis_im_bigger/006',\n",
    "              '/home/pico/uni/romi/scanner_cube/arabidopsis_im_bigger/009',\n",
    "              '/home/pico/uni/romi/scanner_cube/arabidopsis_im_bigger/011',\n",
    "             '/home/pico/uni/romi/scanner_cube/arabidopsis_im_bigger/024',\n",
    "              '/home/pico/uni/romi/scanner_cube/arabidopsis_im_bigger/022',\n",
    "              \n",
    "              '/home/pico/uni/romi/scanner_cube/arabidopsis_im_bigger/000',\n",
    "              '/home/pico/uni/romi/scanner_cube/arabidopsis_im_bigger/020',\n",
    "              '/home/pico/uni/romi/scanner_cube/arabidopsis_im_bigger/028',\n",
    "             '/home/pico/uni/romi/scanner_cube/arabidopsis_im_bigger/036',\n",
    "              '/home/pico/uni/romi/scanner_cube/arabidopsis_im_bigger/048',\n",
    "              \n",
    "              '/home/pico/uni/romi/scanner_cube/arabidopsis_im_bigger/201',\n",
    "              '/home/pico/uni/romi/scanner_cube/arabidopsis_im_bigger/202',\n",
    "              '/home/pico/uni/romi/scanner_cube/arabidopsis_im_bigger/203',\n",
    "             '/home/pico/uni/romi/scanner_cube/arabidopsis_im_bigger/204',\n",
    "              '/home/pico/uni/romi/scanner_cube/arabidopsis_im_bigger/200',\n",
    "             ]'''\n",
    "\n",
    "data_paths = ['','','']\n",
    "\n",
    "envs = [suite_gym.load('ScannerEnv-v1',gym_kwargs={'dataset_path':dp,'gt_mode':True,'rotation_steps':0,'init_pos':-1}) \n",
    "        for dp in data_paths]\n",
    "\n",
    "tf_env = tf_py_environment.TFPyEnvironment( batched_py_environment.BatchedPyEnvironment(envs,multithreading=True) )#, isolation=True  )"
   ]
  },
  {
   "cell_type": "raw",
   "metadata": {},
   "source": [
    "env_name = 'ScannerEnv-v0'\n",
    "if env_name in gym.envs.registry.env_specs:\n",
    "    print('s')\n",
    "    del gym.envs.registry.env_specs[env_name]"
   ]
  },
  {
   "cell_type": "code",
   "execution_count": null,
   "metadata": {},
   "outputs": [],
   "source": [
    "tf_env.observation_spec()"
   ]
  },
  {
   "cell_type": "code",
   "execution_count": null,
   "metadata": {},
   "outputs": [],
   "source": [
    "tf_env.action_spec()"
   ]
  },
  {
   "cell_type": "code",
   "execution_count": null,
   "metadata": {},
   "outputs": [],
   "source": [
    "'''def volume_layers():\n",
    "    input_vol = keras.layers.Input(shape=(66,68,152))\n",
    "    preprocessing = keras.layers.Reshape((66,68,152,1))(input_vol)\n",
    "    preprocessing = keras.layers.Cropping3D(cropping=((0,2), (0,4), (0,24)))(preprocessing) #output none,64,64,128\n",
    "    preprocessing = keras.layers.Lambda(lambda x: (tf.cast(x,np.float32)+1.) / 2.)(preprocessing) #normalize 0-1\n",
    "    \n",
    "    \n",
    "    x = keras.layers.Conv3D(filters=32, kernel_size=3,strides=1, padding=\"same\", activation=\"relu\")(preprocessing)\n",
    "    x = keras.layers.Conv3D(filters=16, kernel_size=1,strides=1, padding=\"same\", activation=\"relu\")(x)\n",
    "    x = keras.layers.Conv3D(filters=64, kernel_size=3,strides=2,padding=\"same\", activation=\"relu\")(x)\n",
    "    #x = keras.layers.MaxPool3D(pool_size=2)(x)\n",
    "    #x = keras.layers.BatchNormalization()(x)\n",
    "   \n",
    "    #x = keras.layers.Flatten()(x)\n",
    "    x = keras.layers.GlobalAveragePooling3D()(x)\n",
    "    \n",
    "    #x = keras.layers.Dense(32)(x)\n",
    "                                        \n",
    "    model = keras.models.Model(inputs=input_vol,outputs=x)\n",
    "    model.summary()\n",
    "    return model'''\n",
    "\n",
    "def volume_layers():\n",
    "    input_vol = keras.layers.Input(shape=(66,68,152))\n",
    "    preprocessing = keras.layers.Reshape((66,68,152,1))(input_vol)\n",
    "    preprocessing = keras.layers.Cropping3D(cropping=((0,2), (0,4), (0,24)))(preprocessing) #output none,64,64,128\n",
    "    preprocessing = keras.layers.Lambda(lambda x: (tf.cast(x,np.float32)+1.) / 2.)(preprocessing) #normalize 0-1\n",
    "    stride = 2\n",
    "    \n",
    "    x = keras.layers.Conv3D(filters=32, kernel_size=5,strides=stride, padding=\"same\", activation=\"relu\")(preprocessing)\n",
    "    #x = keras.layers.MaxPool3D(pool_size=2)(x)\n",
    "    #x = keras.layers.BatchNormalization()(x)\n",
    "    \n",
    "    x = keras.layers.Conv3D(filters=64, kernel_size=3,strides=stride, padding=\"same\", activation=\"relu\")(x)\n",
    "    #x = keras.layers.MaxPool3D(pool_size=2)(x)\n",
    "    #x = keras.layers.BatchNormalization()(x)\n",
    "\n",
    "    x = keras.layers.Conv3D(filters=128, kernel_size=3,strides=stride,padding=\"same\", activation=\"relu\")(x)\n",
    "    #x = keras.layers.MaxPool3D(pool_size=2)(x)\n",
    "    #x = keras.layers.BatchNormalization()(x)\n",
    "    \n",
    "    #x = keras.layers.Conv3D(filters=64, kernel_size=3,strides=stride,padding=\"same\", activation=\"relu\")(x)\n",
    "    #x = keras.layers.MaxPool3D(pool_size=2)(x)\n",
    "   \n",
    "    #x = keras.layers.Flatten()(x)\n",
    "    x = keras.layers.GlobalAveragePooling3D()(x)\n",
    "    \n",
    "    #x = keras.layers.Dense(32)(x)\n",
    "                                        \n",
    "    model = keras.models.Model(inputs=input_vol,outputs=x)\n",
    "    model.summary()\n",
    "    return model\n",
    "    \n",
    "    \n",
    "#scale range 0 to 1\n",
    "oldmin = tf_env.observation_spec()[1].minimum\n",
    "oldmax = tf_env.observation_spec()[1].maximum\n",
    "print(oldmin,oldmax)\n",
    "    \n",
    "def input_vect_layers():\n",
    "    input_ = keras.layers.Input(shape=(1,))\n",
    "    preprocessing = keras.layers.Lambda(lambda x: ((x-oldmin)*(1.- 0.)/(oldmax-oldmin)) + 0. )(input_)\n",
    "    #x = keras.layers.Dense(32)(preprocessing)\n",
    "    return keras.models.Model(inputs=input_,outputs=preprocessing)"
   ]
  },
  {
   "cell_type": "code",
   "execution_count": null,
   "metadata": {},
   "outputs": [],
   "source": [
    "#network\n",
    "#preprocessing_layers=volume_layers()\n",
    "preprocessing_layers=(volume_layers(),input_vect_layers())\n",
    "preprocessing_combiner = tf.keras.layers.Concatenate(axis=-1)\n",
    "dense_l = pm['model']['fc_layer_params']\n",
    "if len(dense_l) == 1:\n",
    "    fc_layer_params = (dense_l[0],)\n",
    "else:\n",
    "    fc_layer_params = dense_l\n",
    "\n",
    "\n",
    "categorical_q_net = categorical_q_network.CategoricalQNetwork(\n",
    "tf_env.observation_spec(),\n",
    "tf_env.action_spec(),\n",
    "preprocessing_layers=preprocessing_layers,\n",
    "preprocessing_combiner=preprocessing_combiner,\n",
    "fc_layer_params=fc_layer_params,\n",
    "num_atoms=pm['categorical_dqn']['n_atoms'])"
   ]
  },
  {
   "cell_type": "code",
   "execution_count": null,
   "metadata": {},
   "outputs": [],
   "source": [
    "#agent\n",
    "train_step = tf.Variable(0)\n",
    "#optimizer = keras.optimizers.RMSprop(lr=2.5e-4, rho=0.95, momentum=0.0,\n",
    "#            epsilon=0.00001, centered=True)\n",
    "'''lr_decay =  keras.optimizers.schedules.PolynomialDecay(\n",
    "            initial_learning_rate=0.005, # initial ε\n",
    "            decay_steps = pm['agent']['decay_steps'], \n",
    "            end_learning_rate=0.0005)\n",
    "optimizer = keras.optimizers.Adam(learning_rate=lambda: lr_decay(train_step))'''\n",
    "\n",
    "\n",
    "optimizer = keras.optimizers.Adam(learning_rate=pm['model']['learning_rate'])\n",
    "\n",
    "epsilon_fn = keras.optimizers.schedules.PolynomialDecay(\n",
    "            initial_learning_rate=1.0, # initial ε\n",
    "            decay_steps = pm['agent']['decay_steps'], \n",
    "            end_learning_rate=0.02) # final ε\n",
    "\n",
    "agent = categorical_dqn_agent.CategoricalDqnAgent(tf_env.time_step_spec(),\n",
    "                tf_env.action_spec(),\n",
    "                categorical_q_network=categorical_q_net,\n",
    "                optimizer=optimizer,\n",
    "                min_q_value=pm['categorical_dqn']['min_q_value'],\n",
    "                max_q_value=pm['categorical_dqn']['max_q_value'],\n",
    "                target_update_period=pm['agent']['target_update_period'],\n",
    "                td_errors_loss_fn=keras.losses.Huber(reduction=\"none\"),#element_wise_squared_loss,\n",
    "                gamma=pm['agent']['gamma'], # discount factor\n",
    "                train_step_counter=train_step,\n",
    "                n_step_update =  pm['categorical_dqn']['n_step_update'],                                \n",
    "                epsilon_greedy=lambda: epsilon_fn(train_step))\n",
    "agent.initialize()"
   ]
  },
  {
   "cell_type": "code",
   "execution_count": null,
   "metadata": {},
   "outputs": [],
   "source": [
    "#Replay buffer\n",
    "replay_buffer = tf_uniform_replay_buffer.TFUniformReplayBuffer(\n",
    "    data_spec= agent.collect_data_spec,\n",
    "    batch_size= tf_env.batch_size,\n",
    "    max_length=pm['rbuffer']['max_length'])"
   ]
  },
  {
   "cell_type": "code",
   "execution_count": null,
   "metadata": {},
   "outputs": [],
   "source": [
    "#observer\n",
    "#observer is just a function (or a callable object) that takes a trajectory argument,\n",
    "#add_method() method (bound to the replay_buffer object) can be used as observer\n",
    "replay_buffer_observer = replay_buffer.add_batch"
   ]
  },
  {
   "cell_type": "code",
   "execution_count": null,
   "metadata": {},
   "outputs": [],
   "source": [
    "#observer for training metrics\n",
    "training_metrics = [\n",
    "tf_metrics.NumberOfEpisodes(),\n",
    "tf_metrics.AverageEpisodeLengthMetric(batch_size=len(envs)),\n",
    "tf_metrics.EnvironmentSteps(),\n",
    "tf_metrics.AverageReturnMetric(batch_size=len(envs)),\n",
    "tf_metrics.MaxReturnMetric(batch_size=len(envs)),\n",
    "tf_metrics.MinReturnMetric(batch_size=len(envs)),   \n",
    "]"
   ]
  },
  {
   "cell_type": "code",
   "execution_count": null,
   "metadata": {},
   "outputs": [],
   "source": [
    "#custom observer\n",
    "class ShowProgress:\n",
    "    def __init__(self, total):\n",
    "        self.counter = 0\n",
    "        self.total = total\n",
    "    def __call__(self, trajectory):\n",
    "        if not trajectory.is_boundary():\n",
    "            self.counter += 1\n",
    "        if self.counter % 100 == 0:\n",
    "            print(\"\\r{}/{}\".format(self.counter, self.total), end=\"\")"
   ]
  },
  {
   "cell_type": "code",
   "execution_count": null,
   "metadata": {},
   "outputs": [],
   "source": [
    "#Collect Driver\n",
    "update_period = pm['collect_driver']['num_steps'] # train the model every x steps\n",
    "collect_driver = DynamicStepDriver(\n",
    "    tf_env,\n",
    "    agent.collect_policy,\n",
    "    observers=[replay_buffer_observer] + training_metrics,\n",
    "    num_steps=update_period) # collect x steps for each training iteration\n",
    "\n",
    "#+ training_metrics,"
   ]
  },
  {
   "cell_type": "code",
   "execution_count": null,
   "metadata": {
    "scrolled": true
   },
   "outputs": [],
   "source": [
    "# random policy driver to start filling the buffer\n",
    "random_collect_policy = RandomTFPolicy(tf_env.time_step_spec(),\n",
    "                        tf_env.action_spec())\n",
    "\n",
    "ns = pm['rnd_policy']['num_steps']\n",
    "init_driver = DynamicStepDriver(\n",
    "            tf_env,\n",
    "            random_collect_policy,\n",
    "            observers=[replay_buffer.add_batch],\n",
    "            num_steps=ns)\n",
    "#, ShowProgress(ns)],\n",
    "final_time_step, final_policy_state = init_driver.run()"
   ]
  },
  {
   "cell_type": "code",
   "execution_count": null,
   "metadata": {},
   "outputs": [],
   "source": [
    "#use buffer as tf API dataset ()\n",
    "dataset = replay_buffer.as_dataset(\n",
    "        sample_batch_size=pm['rbuffer']['sample_batch_size'],\n",
    "        num_steps=pm['categorical_dqn']['n_step_update'] + 1,\n",
    "        num_parallel_calls=3).prefetch(3)"
   ]
  },
  {
   "cell_type": "code",
   "execution_count": null,
   "metadata": {},
   "outputs": [],
   "source": [
    "#convert main functions to tensorflow functions to speed up training\n",
    "collect_driver.run = function(collect_driver.run)\n",
    "agent.train = function(agent.train)"
   ]
  },
  {
   "cell_type": "code",
   "execution_count": null,
   "metadata": {},
   "outputs": [],
   "source": [
    "#@tf.function\n",
    "def train_agent(n_iterations):\n",
    "    #reset metrics\n",
    "    for m in training_metrics:\n",
    "        m.reset()\n",
    "    time_step = None\n",
    "    policy_state = ()#agent.collect_policy.get_initial_state(tf_env.batch_size)\n",
    "    agent.train_step_counter.assign(0)\n",
    "    iterator = iter(dataset)\n",
    "    for iteration in range(n_iterations):\n",
    "        time_step, policy_state = collect_driver.run(time_step, policy_state)\n",
    "        trajectories, buffer_info = next(iterator)\n",
    "        train_loss = agent.train(trajectories)\n",
    "        print(\"\\r{} loss:{:.5f} epsilon{}\".format(iteration, train_loss.loss.numpy(),epsilon_fn(train_step)), end=\"\")\n",
    "        if iteration % 100 == 0:\n",
    "            with train_summary_writer.as_default():\n",
    "                #plot metrics\n",
    "                for train_metric in training_metrics:\n",
    "                    train_metric.tf_summaries(train_step=tf.cast(agent.train_step_counter,tf.int64), step_metrics=training_metrics[:])\n",
    "                train_summary_writer.flush()\n",
    "                \n",
    "        if iteration % 100 == 0:\n",
    "            with train_summary_writer.as_default():\n",
    "                #plot train loss          \n",
    "                tf.summary.scalar('train_loss', train_loss.loss.numpy(), step=tf.cast(agent.train_step_counter,tf.int64))\n",
    "                #plot NN weights\n",
    "                for layer in  categorical_q_net.layers:\n",
    "                    for weight in layer.weights:\n",
    "                        tf.summary.histogram(weight.name,weight,step=tf.cast(agent.train_step_counter,tf.int64))\n",
    "                train_summary_writer.flush()"
   ]
  },
  {
   "cell_type": "code",
   "execution_count": null,
   "metadata": {},
   "outputs": [],
   "source": [
    "train_dir = os.path.join(data_log_path,\"logs/\",run_label)   \n",
    "train_summary_writer = tf.summary.create_file_writer(\n",
    "            train_dir, flush_millis=10000)\n",
    "#train_summary_writer.set_as_default()"
   ]
  },
  {
   "cell_type": "code",
   "execution_count": null,
   "metadata": {
    "scrolled": false
   },
   "outputs": [],
   "source": [
    "# Launch TensorBoard with objects in the log directory\n",
    "# This should launch tensorboard in your browser, but you may not see your metadata.\n",
    "#%tensorboard --logdir=logs --reload_interval=15"
   ]
  },
  {
   "cell_type": "code",
   "execution_count": null,
   "metadata": {},
   "outputs": [],
   "source": [
    "#tf.summary.scalar('avgreturn', training_metrics[3].result().numpy(), step=tf.cast(agent.train_step_counter,tf.int64))"
   ]
  },
  {
   "cell_type": "code",
   "execution_count": null,
   "metadata": {
    "scrolled": false
   },
   "outputs": [],
   "source": [
    "%time train_agent(pm['misc']['n_iterations'])"
   ]
  },
  {
   "cell_type": "code",
   "execution_count": null,
   "metadata": {},
   "outputs": [],
   "source": [
    "#save model, parameters and code state\n",
    "policy_dir = os.path.join(data_log_path,\"policies\", run_label)\n",
    "tf_policy_saver = policy_saver.PolicySaver(agent.policy)\n",
    "tf_policy_saver.save(policy_dir)\n",
    "\n",
    "with open(os.path.join(data_log_path,\"parameters\", run_label+'.json'), 'w') as json_file:\n",
    "  json.dump(pm, json_file)\n",
    "\n",
    "src = os.path.join(current_path,\"categorical_dqn_tf_agents.ipynb\")\n",
    "dst = os.path.join(data_log_path,\"train_code\", run_label+'.ipynb')\n",
    "shutil.copyfile(src, dst)\n",
    "\n",
    "src = os.path.join(current_path,\"scan_gym/scan_gym/envs/ScannerEnv/scanner_env.py\")\n",
    "dst = os.path.join(data_log_path,\"environment_code\", run_label+'.py')\n",
    "shutil.copyfile(src, dst)"
   ]
  },
  {
   "cell_type": "code",
   "execution_count": null,
   "metadata": {},
   "outputs": [],
   "source": [
    "def run_episode(env,tf_env,policy):\n",
    "    state = tf_env.reset()\n",
    "    time_steps = 40\n",
    "    for i in range(1,time_steps):\n",
    "        action_step = policy.action(state)\n",
    "        state = tf_env.step(action_step.action)\n",
    "        #print(i,':',action_step.action.numpy(),state.observation[1].numpy()[0],state.step_type[0].numpy())  #,state.step_type.numpy()  )#,env.action2move(action_step.action,state.observation[0][-1].numpy()))#action,dir\n",
    "        last_position = env.current_position\n",
    "        if state.is_last():\n",
    "            break\n",
    "    return env.h\n",
    "\n",
    "def test_envs(envs,tf_envs,policy):\n",
    "    stats = []\n",
    "    similarity_ratios = []\n",
    "    for  model in range(len(envs)):\n",
    "        hs = []\n",
    "        sr = []\n",
    "        for i in range(180):\n",
    "            h = run_episode(envs[model], tf_envs[model],policy)\n",
    "            sr.append(envs[model].last_gt_ratio)\n",
    "            hs.append(h)\n",
    "        stats.append(np.mean(hs,axis=0).astype('int'))\n",
    "        similarity_ratios.append(np.mean(sr))\n",
    "        print(model)\n",
    "    return stats,similarity_ratios\n",
    "\n",
    "def save_tests(path,stats,similarity_ratios,models):\n",
    "    f = open(path,'w')\n",
    "    writer = csv.writer(f)\n",
    "    writer.writerow([\"model\",\"empty\", \"undefined\", \"solid\", \"similarity\"])\n",
    "    for i in range(len(stats)):\n",
    "        writer.writerow([models[i]] + stats[i].tolist() + [similarity_ratios[i]])\n",
    "    stats_mean = np.mean(stats,axis=0)\n",
    "    similarity_mean = np.mean(similarity_ratios)\n",
    "    writer.writerow([9999] + stats_mean.astype('int').tolist() + [similarity_mean])    #(np.insert(total_mean,0,999).astype('int'))\n",
    "    f.close()"
   ]
  },
  {
   "cell_type": "code",
   "execution_count": null,
   "metadata": {},
   "outputs": [],
   "source": [
    "\n",
    "models = [0,20,28,204,205]#[204,202]#,79,88,146,198,199]\n",
    "envs = [suite_gym.load('ScannerEnv-v1',\n",
    "        gym_kwargs={'dataset_path':os.path.join(current_path,'arabidopsis_im_bigger',str(x).zfill(3)),'init_pos_inc_rst':True, 'gt_mode':True}) for x in models]\n",
    "\n",
    "tf_envs = [tf_py_environment.TFPyEnvironment( env ) for env in envs]\n",
    "\n",
    "\n",
    "dest_dir = os.path.join(data_log_path,'tests')\n",
    "if not os.path.exists(dest_dir):\n",
    "    os.makedirs(dest_dir)\n",
    "\n",
    "stats,similarities = test_envs(envs,tf_envs,agent.policy)    \n",
    "test_file = os.path.join(dest_dir,run_label + '.csv')\n",
    "save_tests(test_file,stats,similarities,models)\n",
    "print(stats, similarities)"
   ]
  },
  {
   "cell_type": "code",
   "execution_count": null,
   "metadata": {},
   "outputs": [],
   "source": [
    "replay_buffer.num_frames()"
   ]
  },
  {
   "cell_type": "code",
   "execution_count": null,
   "metadata": {},
   "outputs": [],
   "source": [
    "dp = '/home/pico/uni/romi/scanner_cube/arabidopsis_im_bigger/204'\n",
    "env = suite_gym.load('ScannerEnv-v1',gym_kwargs={'dataset_path':dp,'rotation_steps':0,'init_pos':-1})\n",
    "test_env = tf_py_environment.TFPyEnvironment( env )"
   ]
  },
  {
   "cell_type": "code",
   "execution_count": null,
   "metadata": {},
   "outputs": [],
   "source": [
    "state = test_env.reset()\n",
    "#print(state.observation[0].numpy())\n",
    "cont = 0\n",
    "time_steps = 25\n",
    "#obs = deque(maxlen=time_steps)\n",
    "#print('0:',action_step.action.numpy(),state.observation[1].numpy()[0],state.step_type[0].numpy())\n",
    "\n",
    "for i in range(1,time_steps):\n",
    "    action_step = agent.policy.action(state)#agent.policy.action(state)\n",
    "    state = test_env.step(action_step.action)\n",
    "    print(i,':',action_step.action.numpy(),state.observation[1].numpy()[0],state.step_type[0].numpy())  #,state.step_type.numpy()  )#,env.action2move(action_step.action,state.observation[0][-1].numpy()))#action,dir\n",
    "    #print(i,':',action_step.action.numpy() )#,state.observation.numpy()[0],state.step_type[0].numpy())\n",
    "    last_position = env.current_position\n",
    "    if state.is_last():\n",
    "        print('salio',cont)\n",
    "        break\n",
    "        \n",
    "print(env.kept_images)\n",
    "print(sorted(env.kept_images))\n",
    "print(env.total_reward)\n",
    "print('bias',env.position_bias)\n",
    "print(env.h)\n",
    "print(env.last_gt_ratio)"
   ]
  },
  {
   "cell_type": "raw",
   "metadata": {},
   "source": [
    "#policy_dir = os.path.join(current_path, 'policy')\n",
    "#policy = tf.compat.v2.saved_model.load(policy_dir)"
   ]
  },
  {
   "cell_type": "code",
   "execution_count": null,
   "metadata": {},
   "outputs": [],
   "source": []
  },
  {
   "cell_type": "code",
   "execution_count": null,
   "metadata": {},
   "outputs": [],
   "source": [
    "#batched_py_environment.BatchedPyEnvironment(envs=[suite.load(...) for _ in range(n)])"
   ]
  },
  {
   "cell_type": "code",
   "execution_count": null,
   "metadata": {},
   "outputs": [],
   "source": []
  },
  {
   "cell_type": "code",
   "execution_count": null,
   "metadata": {},
   "outputs": [],
   "source": [
    "#tf_env.observation_spec()[1].maximum"
   ]
  },
  {
   "cell_type": "code",
   "execution_count": null,
   "metadata": {},
   "outputs": [],
   "source": []
  },
  {
   "cell_type": "code",
   "execution_count": null,
   "metadata": {},
   "outputs": [],
   "source": []
  },
  {
   "cell_type": "code",
   "execution_count": null,
   "metadata": {},
   "outputs": [],
   "source": []
  },
  {
   "cell_type": "code",
   "execution_count": null,
   "metadata": {},
   "outputs": [],
   "source": [
    "#random_collect_policy = RandomTFPolicy(tf_env.time_step_spec(),\n",
    "#                        tf_env.action_spec())"
   ]
  },
  {
   "cell_type": "code",
   "execution_count": null,
   "metadata": {},
   "outputs": [],
   "source": [
    "#random_collect_policy.collect_data_spec"
   ]
  },
  {
   "cell_type": "code",
   "execution_count": null,
   "metadata": {},
   "outputs": [],
   "source": [
    "#q_net.layers[0].weights[0].shape"
   ]
  },
  {
   "cell_type": "code",
   "execution_count": null,
   "metadata": {},
   "outputs": [],
   "source": [
    "#random_collect_policy.time_step_spec"
   ]
  },
  {
   "cell_type": "code",
   "execution_count": null,
   "metadata": {},
   "outputs": [],
   "source": [
    "'''ns = pm['rnd_policy']['num_steps']\n",
    "init_driver = DynamicStepDriver(\n",
    "            tf_env,\n",
    "            random_collect_policy,\n",
    "            observers=[replay_buffer.add_batch],\n",
    "            num_steps=ns)'''"
   ]
  },
  {
   "cell_type": "code",
   "execution_count": null,
   "metadata": {},
   "outputs": [],
   "source": []
  },
  {
   "cell_type": "code",
   "execution_count": null,
   "metadata": {},
   "outputs": [],
   "source": []
  },
  {
   "cell_type": "code",
   "execution_count": null,
   "metadata": {},
   "outputs": [],
   "source": []
  },
  {
   "cell_type": "code",
   "execution_count": null,
   "metadata": {},
   "outputs": [],
   "source": []
  },
  {
   "cell_type": "code",
   "execution_count": null,
   "metadata": {},
   "outputs": [],
   "source": []
  },
  {
   "cell_type": "code",
   "execution_count": null,
   "metadata": {},
   "outputs": [],
   "source": []
  },
  {
   "cell_type": "code",
   "execution_count": null,
   "metadata": {},
   "outputs": [],
   "source": []
  },
  {
   "cell_type": "code",
   "execution_count": null,
   "metadata": {},
   "outputs": [],
   "source": []
  },
  {
   "cell_type": "code",
   "execution_count": null,
   "metadata": {},
   "outputs": [],
   "source": []
  },
  {
   "cell_type": "code",
   "execution_count": null,
   "metadata": {},
   "outputs": [],
   "source": [
    "#import tf_agents.utils\n",
    "#tf_agents.utils.nest_utils.get_outer_shape(state,  tf_env.time_step_spec())"
   ]
  },
  {
   "cell_type": "code",
   "execution_count": null,
   "metadata": {},
   "outputs": [],
   "source": [
    "#agent.training_data_spec"
   ]
  },
  {
   "cell_type": "code",
   "execution_count": null,
   "metadata": {},
   "outputs": [],
   "source": [
    "#tf_env.observation_spec()[1].minimum"
   ]
  },
  {
   "cell_type": "code",
   "execution_count": null,
   "metadata": {},
   "outputs": [],
   "source": []
  }
 ],
 "metadata": {
  "kernelspec": {
   "display_name": "rl",
   "language": "python",
   "name": "rl"
  },
  "language_info": {
   "codemirror_mode": {
    "name": "ipython",
    "version": 3
   },
   "file_extension": ".py",
   "mimetype": "text/x-python",
   "name": "python",
   "nbconvert_exporter": "python",
   "pygments_lexer": "ipython3",
   "version": "3.8.8"
  }
 },
 "nbformat": 4,
 "nbformat_minor": 4
}
