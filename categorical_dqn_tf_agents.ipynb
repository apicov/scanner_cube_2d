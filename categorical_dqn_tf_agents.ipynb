{
 "cells": [
  {
   "cell_type": "code",
   "execution_count": 1,
   "metadata": {
    "ExecuteTime": {
     "end_time": "2022-05-11T13:01:09.502277Z",
     "start_time": "2022-05-11T13:01:07.888297Z"
    }
   },
   "outputs": [
    {
     "name": "stdout",
     "output_type": "stream",
     "text": [
      "GPUs:  1\n"
     ]
    }
   ],
   "source": [
    "%reload_ext tensorboard\n",
    "import numpy as np\n",
    "import json\n",
    "import tensorflow as tf\n",
    "import os\n",
    "\n",
    "import time\n",
    "%matplotlib inline\n",
    "import matplotlib\n",
    "import matplotlib.pyplot as plt\n",
    "import gym\n",
    "\n",
    "import tensorflow as tf\n",
    "\n",
    "gpus = tf.config.experimental.list_physical_devices('GPU')\n",
    "#tf.config.experimental.set_memory_growth(gpus[0], True)\n",
    "if gpus:\n",
    "  try:\n",
    "    tf.config.experimental.set_virtual_device_configuration(gpus[0], \n",
    "    [tf.config.experimental.VirtualDeviceConfiguration(memory_limit=9000)])\n",
    "  except RuntimeError as e:\n",
    "    print(e)\n",
    "    \n",
    "    \n",
    "print(\"GPUs: \", len(tf.config.experimental.list_physical_devices('GPU')))\n",
    "tf.config.experimental.list_logical_devices('GPU')\n",
    "\n",
    "import tf_agents\n",
    "from tf_agents.networks import categorical_q_network\n",
    "from tf_agents.agents.categorical_dqn import categorical_dqn_agent\n",
    "from tf_agents.environments import py_environment, parallel_py_environment, batched_py_environment\n",
    "from tf_agents.environments import tf_environment\n",
    "from tf_agents.environments import tf_py_environment\n",
    "from tf_agents.environments import utils\n",
    "from tf_agents.specs import array_spec\n",
    "from tf_agents.environments import wrappers\n",
    "from tf_agents.environments import suite_gym\n",
    "from tf_agents.trajectories import time_step as ts\n",
    "from tf_agents.networks.q_network import QNetwork\n",
    "from tf_agents.agents.dqn.dqn_agent import DqnAgent\n",
    "from tf_agents.replay_buffers import tf_uniform_replay_buffer\n",
    "from tf_agents.metrics import tf_metrics\n",
    "from tf_agents.drivers.dynamic_step_driver import DynamicStepDriver\n",
    "from tf_agents.policies.random_tf_policy import RandomTFPolicy\n",
    "from tf_agents.utils.common import function, element_wise_squared_loss\n",
    "from tf_agents.eval.metric_utils import log_metrics\n",
    "from tf_agents.policies import policy_saver\n",
    "import logging\n",
    "\n",
    "import tensorflow.keras as keras\n",
    "\n",
    "tf.compat.v1.enable_v2_behavior()\n",
    "import time\n",
    "import json\n",
    "import datetime\n",
    "import copy\n",
    "import shutil\n",
    "\n",
    "#import imp\n",
    "from scan_gym import envs\n",
    "#imp.reload(envs)\n",
    "import csv\n",
    "\n",
    "seed=42\n",
    "tf.random.set_seed(seed)\n",
    "np.random.seed(seed)\n",
    "\n",
    "from utils import policy_test"
   ]
  },
  {
   "cell_type": "code",
   "execution_count": 2,
   "metadata": {
    "ExecuteTime": {
     "end_time": "2022-05-11T13:01:09.505339Z",
     "start_time": "2022-05-11T13:01:09.503209Z"
    }
   },
   "outputs": [],
   "source": [
    "current_path = os.getcwd()\n",
    "params_file = os.path.join(current_path, 'params.json') \n",
    "pm=json.load(open(params_file))\n",
    "run_label = datetime.datetime.now().strftime(\"%Y%m%d-%H%M%S\")\n",
    "data_log_path = os.path.join(current_path, 'generated_data/') "
   ]
  },
  {
   "cell_type": "code",
   "execution_count": 3,
   "metadata": {
    "ExecuteTime": {
     "end_time": "2022-05-11T13:01:10.564911Z",
     "start_time": "2022-05-11T13:01:09.506140Z"
    }
   },
   "outputs": [],
   "source": [
    "models_path  = '/home/pico/uni/romi/scanner-gym_models'\n",
    "models = ['207_2d','208_2d','209_2d','210_2d','211_2d']\n",
    "models = ['208_2d']\n",
    "n_images = 8\n",
    "continuous = False\n",
    "\n",
    "#scan_env = gym.make('ScannerEnv-v1', models_path=models_path, train_models=models,\n",
    "#                   n_images = n_images, continuous=continuous, gt_mode=True, cube_view='static')\n",
    "\n",
    "envs = [suite_gym.load('ScannerEnv-v1',gym_kwargs={'models_path':models_path, 'train_models':['206_2d'],\n",
    "                                                   'n_images':n_images, 'continuous':continuous,\n",
    "                                                   'gt_mode':True,'cube_view':'static'})] \n",
    "\n",
    "tf_env = tf_py_environment.TFPyEnvironment( batched_py_environment.BatchedPyEnvironment(envs,multithreading=True) )#, isolation=True  )"
   ]
  },
  {
   "cell_type": "raw",
   "metadata": {},
   "source": [
    "env_name = 'ScannerEnv-v0'\n",
    "if env_name in gym.envs.registry.env_specs:\n",
    "    print('s')\n",
    "    del gym.envs.registry.env_specs[env_name]"
   ]
  },
  {
   "cell_type": "code",
   "execution_count": 4,
   "metadata": {
    "ExecuteTime": {
     "end_time": "2022-05-11T13:01:10.570045Z",
     "start_time": "2022-05-11T13:01:10.565967Z"
    }
   },
   "outputs": [
    {
     "data": {
      "text/plain": [
       "(BoundedTensorSpec(shape=(64, 64, 64), dtype=tf.float16, name='observation/tuple_0', minimum=array(-1., dtype=float16), maximum=array(1., dtype=float16)),\n",
       " BoundedTensorSpec(shape=(2,), dtype=tf.int32, name='observation/tuple_1', minimum=array([0, 0], dtype=int32), maximum=array([179,   3], dtype=int32)))"
      ]
     },
     "execution_count": 4,
     "metadata": {},
     "output_type": "execute_result"
    }
   ],
   "source": [
    "tf_env.observation_spec()"
   ]
  },
  {
   "cell_type": "code",
   "execution_count": 5,
   "metadata": {
    "ExecuteTime": {
     "end_time": "2022-05-11T13:01:10.654160Z",
     "start_time": "2022-05-11T13:01:10.571134Z"
    }
   },
   "outputs": [
    {
     "data": {
      "text/plain": [
       "BoundedTensorSpec(shape=(), dtype=tf.int64, name='action', minimum=array(0), maximum=array(23))"
      ]
     },
     "execution_count": 5,
     "metadata": {},
     "output_type": "execute_result"
    }
   ],
   "source": [
    "tf_env.action_spec()"
   ]
  },
  {
   "cell_type": "code",
   "execution_count": 6,
   "metadata": {
    "ExecuteTime": {
     "end_time": "2022-05-11T13:01:10.857909Z",
     "start_time": "2022-05-11T13:01:10.655099Z"
    }
   },
   "outputs": [
    {
     "name": "stdout",
     "output_type": "stream",
     "text": [
      "[0 0] [179   3]\n"
     ]
    }
   ],
   "source": [
    "'''def volume_layers():\n",
    "    input_vol = keras.layers.Input(shape=(66,68,152))\n",
    "    preprocessing = keras.layers.Reshape((66,68,152,1))(input_vol)\n",
    "    preprocessing = keras.layers.Cropping3D(cropping=((0,2), (0,4), (0,24)))(preprocessing) #output none,64,64,128\n",
    "    preprocessing = keras.layers.Lambda(lambda x: (tf.cast(x,np.float32)+1.) / 2.)(preprocessing) #normalize 0-1\n",
    "    \n",
    "    \n",
    "    x = keras.layers.Conv3D(filters=32, kernel_size=3,strides=1, padding=\"same\", activation=\"relu\")(preprocessing)\n",
    "    x = keras.layers.Conv3D(filters=16, kernel_size=1,strides=1, padding=\"same\", activation=\"relu\")(x)\n",
    "    x = keras.layers.Conv3D(filters=64, kernel_size=3,strides=2,padding=\"same\", activation=\"relu\")(x)\n",
    "    #x = keras.layers.MaxPool3D(pool_size=2)(x)\n",
    "    #x = keras.layers.BatchNormalization()(x)\n",
    "   \n",
    "    #x = keras.layers.Flatten()(x)\n",
    "    x = keras.layers.GlobalAveragePooling3D()(x)\n",
    "    \n",
    "    #x = keras.layers.Dense(32)(x)\n",
    "                                        \n",
    "    model = keras.models.Model(inputs=input_vol,outputs=x)\n",
    "    model.summary()\n",
    "    return model'''\n",
    "\n",
    "def volume_layers():\n",
    "    input_vol = keras.layers.Input(shape=(64,64,64))\n",
    "    preprocessing = keras.layers.Reshape((64,64,64,1))(input_vol)\n",
    "    preprocessing = keras.layers.Lambda(lambda x: (tf.cast(x,np.float32)+1.) / 2.)(preprocessing) #normalize 0-1\n",
    "    stride = 2\n",
    "    \n",
    "    x = keras.layers.Conv3D(filters=16, kernel_size=5,strides=stride, padding=\"same\", activation=\"relu\")(preprocessing)\n",
    "    #x = keras.layers.MaxPool3D(pool_size=2)(x)\n",
    "    #x = keras.layers.BatchNormalization()(x)\n",
    "    \n",
    "    x = keras.layers.Conv3D(filters=32, kernel_size=3,strides=stride, padding=\"same\", activation=\"relu\")(x)\n",
    "    #x = keras.layers.MaxPool3D(pool_size=2)(x)\n",
    "    #x = keras.layers.BatchNormalization()(x)\n",
    "\n",
    "    x = keras.layers.Conv3D(filters=64, kernel_size=3,strides=stride,padding=\"same\", activation=\"relu\")(x)\n",
    "    #x = keras.layers.MaxPool3D(pool_size=2)(x)\n",
    "    #x = keras.layers.BatchNormalization()(x)\n",
    "    \n",
    "    #x = keras.layers.Conv3D(filters=64, kernel_size=3,strides=stride,padding=\"same\", activation=\"relu\")(x)\n",
    "    #x = keras.layers.MaxPool3D(pool_size=2)(x)\n",
    "   \n",
    "    #x = keras.layers.Flatten()(x)\n",
    "    x = keras.layers.GlobalAveragePooling3D()(x)\n",
    "    \n",
    "    #x = keras.layers.Dense(32)(x)\n",
    "                                        \n",
    "    model = keras.models.Model(inputs=input_vol,outputs=x)\n",
    "    model.summary()\n",
    "    return model\n",
    "    \n",
    "    \n",
    "#scale range 0 to 1\n",
    "oldmin = tf_env.observation_spec()[1].minimum\n",
    "oldmax = tf_env.observation_spec()[1].maximum\n",
    "print(oldmin,oldmax)\n",
    "    \n",
    "def input_vect_layers():\n",
    "    input_ = keras.layers.Input(shape=(2,))\n",
    "    preprocessing = keras.layers.Lambda(lambda x: ((x-oldmin)*(1.- 0.)/(oldmax-oldmin)) + 0. )(input_)\n",
    "    #x = keras.layers.Dense(32)(preprocessing)\n",
    "    return keras.models.Model(inputs=input_,outputs=preprocessing)"
   ]
  },
  {
   "cell_type": "code",
   "execution_count": 7,
   "metadata": {
    "ExecuteTime": {
     "end_time": "2022-05-11T13:01:11.206559Z",
     "start_time": "2022-05-11T13:01:10.860298Z"
    }
   },
   "outputs": [
    {
     "name": "stderr",
     "output_type": "stream",
     "text": [
      "WARNING - 2022-05-11 15:01:11,171 - encoding_network - Beware: Copying a layer that has already been built: 'model'.  This can lead to subtle bugs because the original layer's weights will not be used in the copy.\n",
      "WARNING - 2022-05-11 15:01:11,195 - encoding_network - Beware: Copying a layer that has already been built: 'model_1'.  This can lead to subtle bugs because the original layer's weights will not be used in the copy.\n"
     ]
    },
    {
     "name": "stdout",
     "output_type": "stream",
     "text": [
      "Model: \"model\"\n",
      "_________________________________________________________________\n",
      "Layer (type)                 Output Shape              Param #   \n",
      "=================================================================\n",
      "input_1 (InputLayer)         [(None, 64, 64, 64)]      0         \n",
      "_________________________________________________________________\n",
      "reshape (Reshape)            (None, 64, 64, 64, 1)     0         \n",
      "_________________________________________________________________\n",
      "lambda (Lambda)              (None, 64, 64, 64, 1)     0         \n",
      "_________________________________________________________________\n",
      "conv3d (Conv3D)              (None, 32, 32, 32, 16)    2016      \n",
      "_________________________________________________________________\n",
      "conv3d_1 (Conv3D)            (None, 16, 16, 16, 32)    13856     \n",
      "_________________________________________________________________\n",
      "conv3d_2 (Conv3D)            (None, 8, 8, 8, 64)       55360     \n",
      "_________________________________________________________________\n",
      "global_average_pooling3d (Gl (None, 64)                0         \n",
      "=================================================================\n",
      "Total params: 71,232\n",
      "Trainable params: 71,232\n",
      "Non-trainable params: 0\n",
      "_________________________________________________________________\n"
     ]
    }
   ],
   "source": [
    "#network\n",
    "#preprocessing_layers=volume_layers()\n",
    "preprocessing_layers=(volume_layers(),input_vect_layers())\n",
    "preprocessing_combiner = tf.keras.layers.Concatenate(axis=-1)\n",
    "dense_l = pm['model']['fc_layer_params']\n",
    "if len(dense_l) == 1:\n",
    "    fc_layer_params = (dense_l[0],)\n",
    "else:\n",
    "    fc_layer_params = dense_l\n",
    "\n",
    "\n",
    "categorical_q_net = categorical_q_network.CategoricalQNetwork(\n",
    "tf_env.observation_spec(),\n",
    "tf_env.action_spec(),\n",
    "preprocessing_layers=preprocessing_layers,\n",
    "preprocessing_combiner=preprocessing_combiner,\n",
    "fc_layer_params=fc_layer_params,\n",
    "num_atoms=pm['categorical_dqn']['n_atoms'])"
   ]
  },
  {
   "cell_type": "code",
   "execution_count": 8,
   "metadata": {
    "ExecuteTime": {
     "end_time": "2022-05-11T13:01:13.968072Z",
     "start_time": "2022-05-11T13:01:11.207457Z"
    }
   },
   "outputs": [
    {
     "name": "stderr",
     "output_type": "stream",
     "text": [
      "WARNING - 2022-05-11 15:01:13,924 - encoding_network - Beware: Copying a layer that has already been built: 'model'.  This can lead to subtle bugs because the original layer's weights will not be used in the copy.\n",
      "WARNING - 2022-05-11 15:01:13,949 - encoding_network - Beware: Copying a layer that has already been built: 'model_1'.  This can lead to subtle bugs because the original layer's weights will not be used in the copy.\n"
     ]
    }
   ],
   "source": [
    "#agent\n",
    "train_step = tf.Variable(0)\n",
    "#optimizer = keras.optimizers.RMSprop(lr=2.5e-4, rho=0.95, momentum=0.0,\n",
    "#            epsilon=0.00001, centered=True)\n",
    "'''lr_decay =  keras.optimizers.schedules.PolynomialDecay(\n",
    "            initial_learning_rate=0.005, # initial ε\n",
    "            decay_steps = pm['agent']['decay_steps'], \n",
    "            end_learning_rate=0.0005)\n",
    "optimizer = keras.optimizers.Adam(learning_rate=lambda: lr_decay(train_step))'''\n",
    "\n",
    "\n",
    "optimizer = keras.optimizers.Adam(learning_rate=pm['model']['learning_rate'])\n",
    "\n",
    "epsilon_fn = keras.optimizers.schedules.PolynomialDecay(\n",
    "            initial_learning_rate=1.0, # initial ε\n",
    "            decay_steps = pm['agent']['decay_steps'], \n",
    "            end_learning_rate=0.02) # final ε\n",
    "\n",
    "agent = categorical_dqn_agent.CategoricalDqnAgent(tf_env.time_step_spec(),\n",
    "                tf_env.action_spec(),\n",
    "                categorical_q_network=categorical_q_net,\n",
    "                optimizer=optimizer,\n",
    "                min_q_value=pm['categorical_dqn']['min_q_value'],\n",
    "                max_q_value=pm['categorical_dqn']['max_q_value'],\n",
    "                target_update_period=pm['agent']['target_update_period'],\n",
    "                td_errors_loss_fn=keras.losses.Huber(reduction=\"none\"),#element_wise_squared_loss,\n",
    "                gamma=pm['agent']['gamma'], # discount factor\n",
    "                train_step_counter=train_step,\n",
    "                n_step_update =  pm['categorical_dqn']['n_step_update'],                                \n",
    "                epsilon_greedy=lambda: epsilon_fn(train_step))\n",
    "agent.initialize()"
   ]
  },
  {
   "cell_type": "code",
   "execution_count": 9,
   "metadata": {
    "ExecuteTime": {
     "end_time": "2022-05-11T13:01:14.076837Z",
     "start_time": "2022-05-11T13:01:13.968952Z"
    }
   },
   "outputs": [],
   "source": [
    "#Replay buffer\n",
    "replay_buffer = tf_uniform_replay_buffer.TFUniformReplayBuffer(\n",
    "    data_spec= agent.collect_data_spec,\n",
    "    batch_size= tf_env.batch_size,\n",
    "    max_length=pm['rbuffer']['max_length'])"
   ]
  },
  {
   "cell_type": "code",
   "execution_count": 10,
   "metadata": {
    "ExecuteTime": {
     "end_time": "2022-05-11T13:01:14.079107Z",
     "start_time": "2022-05-11T13:01:14.077746Z"
    }
   },
   "outputs": [],
   "source": [
    "#observer\n",
    "#observer is just a function (or a callable object) that takes a trajectory argument,\n",
    "#add_method() method (bound to the replay_buffer object) can be used as observer\n",
    "replay_buffer_observer = replay_buffer.add_batch"
   ]
  },
  {
   "cell_type": "code",
   "execution_count": 11,
   "metadata": {
    "ExecuteTime": {
     "end_time": "2022-05-11T13:01:14.220709Z",
     "start_time": "2022-05-11T13:01:14.079778Z"
    }
   },
   "outputs": [],
   "source": [
    "#observer for training metrics\n",
    "training_metrics = [\n",
    "tf_metrics.NumberOfEpisodes(),\n",
    "tf_metrics.AverageEpisodeLengthMetric(batch_size=len(envs)),\n",
    "tf_metrics.EnvironmentSteps(),\n",
    "tf_metrics.AverageReturnMetric(batch_size=len(envs)),\n",
    "tf_metrics.MaxReturnMetric(batch_size=len(envs)),\n",
    "tf_metrics.MinReturnMetric(batch_size=len(envs)),   \n",
    "]"
   ]
  },
  {
   "cell_type": "code",
   "execution_count": 12,
   "metadata": {
    "ExecuteTime": {
     "end_time": "2022-05-11T13:01:14.318143Z",
     "start_time": "2022-05-11T13:01:14.225131Z"
    }
   },
   "outputs": [],
   "source": [
    "#custom observer\n",
    "class ShowProgress:\n",
    "    def __init__(self, total):\n",
    "        self.counter = 0\n",
    "        self.total = total\n",
    "    def __call__(self, trajectory):\n",
    "        if not trajectory.is_boundary():\n",
    "            self.counter += 1\n",
    "        if self.counter % 100 == 0:\n",
    "            print(\"\\r{}/{}\".format(self.counter, self.total), end=\"\")"
   ]
  },
  {
   "cell_type": "code",
   "execution_count": 13,
   "metadata": {
    "ExecuteTime": {
     "end_time": "2022-05-11T13:01:14.398922Z",
     "start_time": "2022-05-11T13:01:14.322492Z"
    }
   },
   "outputs": [],
   "source": [
    "#Collect Driver\n",
    "update_period = pm['collect_driver']['num_steps'] # train the model every x steps\n",
    "collect_driver = DynamicStepDriver(\n",
    "    tf_env,\n",
    "    agent.collect_policy,\n",
    "    observers=[replay_buffer_observer] + training_metrics,\n",
    "    num_steps=update_period) # collect x steps for each training iteration\n",
    "\n",
    "#+ training_metrics,"
   ]
  },
  {
   "cell_type": "code",
   "execution_count": 14,
   "metadata": {
    "ExecuteTime": {
     "end_time": "2022-05-11T13:02:29.982741Z",
     "start_time": "2022-05-11T13:01:14.403078Z"
    },
    "scrolled": true
   },
   "outputs": [
    {
     "name": "stdout",
     "output_type": "stream",
     "text": [
      "WARNING:tensorflow:From /home/pico/.local/lib/python3.8/site-packages/tf_agents/drivers/dynamic_step_driver.py:196: calling while_loop_v2 (from tensorflow.python.ops.control_flow_ops) with back_prop=False is deprecated and will be removed in a future version.\n",
      "Instructions for updating:\n",
      "back_prop=False is deprecated. Consider using tf.stop_gradient instead.\n",
      "Instead of:\n",
      "results = tf.while_loop(c, b, vars, back_prop=False)\n",
      "Use:\n",
      "results = tf.nest.map_structure(tf.stop_gradient, tf.while_loop(c, b, vars))\n"
     ]
    },
    {
     "name": "stderr",
     "output_type": "stream",
     "text": [
      "WARNING - 2022-05-11 15:01:14,548 - deprecation - From /home/pico/.local/lib/python3.8/site-packages/tf_agents/drivers/dynamic_step_driver.py:196: calling while_loop_v2 (from tensorflow.python.ops.control_flow_ops) with back_prop=False is deprecated and will be removed in a future version.\n",
      "Instructions for updating:\n",
      "back_prop=False is deprecated. Consider using tf.stop_gradient instead.\n",
      "Instead of:\n",
      "results = tf.while_loop(c, b, vars, back_prop=False)\n",
      "Use:\n",
      "results = tf.nest.map_structure(tf.stop_gradient, tf.while_loop(c, b, vars))\n"
     ]
    }
   ],
   "source": [
    "# random policy driver to start filling the buffer\n",
    "random_collect_policy = RandomTFPolicy(tf_env.time_step_spec(),\n",
    "                        tf_env.action_spec())\n",
    "\n",
    "ns = pm['rnd_policy']['num_steps']\n",
    "init_driver = DynamicStepDriver(\n",
    "            tf_env,\n",
    "            random_collect_policy,\n",
    "            observers=[replay_buffer.add_batch],\n",
    "            num_steps=ns)\n",
    "#, ShowProgress(ns)],\n",
    "final_time_step, final_policy_state = init_driver.run()"
   ]
  },
  {
   "cell_type": "code",
   "execution_count": 15,
   "metadata": {
    "ExecuteTime": {
     "end_time": "2022-05-11T13:02:30.381409Z",
     "start_time": "2022-05-11T13:02:29.983654Z"
    }
   },
   "outputs": [
    {
     "name": "stdout",
     "output_type": "stream",
     "text": [
      "WARNING:tensorflow:From /home/pico/anaconda3/envs/rl/lib/python3.8/site-packages/tensorflow/python/autograph/operators/control_flow.py:1218: ReplayBuffer.get_next (from tf_agents.replay_buffers.replay_buffer) is deprecated and will be removed in a future version.\n",
      "Instructions for updating:\n",
      "Use `as_dataset(..., single_deterministic_pass=False) instead.\n"
     ]
    },
    {
     "name": "stderr",
     "output_type": "stream",
     "text": [
      "WARNING - 2022-05-11 15:02:30,057 - api - From /home/pico/anaconda3/envs/rl/lib/python3.8/site-packages/tensorflow/python/autograph/operators/control_flow.py:1218: ReplayBuffer.get_next (from tf_agents.replay_buffers.replay_buffer) is deprecated and will be removed in a future version.\n",
      "Instructions for updating:\n",
      "Use `as_dataset(..., single_deterministic_pass=False) instead.\n"
     ]
    }
   ],
   "source": [
    "#use buffer as tf API dataset ()\n",
    "dataset = replay_buffer.as_dataset(\n",
    "        sample_batch_size=pm['rbuffer']['sample_batch_size'],\n",
    "        num_steps=pm['categorical_dqn']['n_step_update'] + 1,\n",
    "        num_parallel_calls=3).prefetch(3)"
   ]
  },
  {
   "cell_type": "code",
   "execution_count": 16,
   "metadata": {
    "ExecuteTime": {
     "end_time": "2022-05-11T13:02:30.384929Z",
     "start_time": "2022-05-11T13:02:30.383050Z"
    }
   },
   "outputs": [],
   "source": [
    "#convert main functions to tensorflow functions to speed up training\n",
    "collect_driver.run = function(collect_driver.run)\n",
    "agent.train = function(agent.train)"
   ]
  },
  {
   "cell_type": "code",
   "execution_count": 17,
   "metadata": {
    "ExecuteTime": {
     "end_time": "2022-05-11T13:02:30.471344Z",
     "start_time": "2022-05-11T13:02:30.385906Z"
    }
   },
   "outputs": [],
   "source": [
    "#@tf.function\n",
    "def train_agent(n_iterations):\n",
    "    #reset metrics\n",
    "    for m in training_metrics:\n",
    "        m.reset()\n",
    "    time_step = None\n",
    "    policy_state = ()#agent.collect_policy.get_initial_state(tf_env.batch_size)\n",
    "    agent.train_step_counter.assign(0)\n",
    "    iterator = iter(dataset)\n",
    "    for iteration in range(n_iterations):\n",
    "        time_step, policy_state = collect_driver.run(time_step, policy_state)\n",
    "        trajectories, buffer_info = next(iterator)\n",
    "        train_loss = agent.train(trajectories)\n",
    "        print(\"\\r{} loss:{:.5f} epsilon{}\".format(iteration, train_loss.loss.numpy(),epsilon_fn(train_step)), end=\"\")\n",
    "        if iteration % 100 == 0:\n",
    "            with train_summary_writer.as_default():\n",
    "                #plot metrics\n",
    "                for train_metric in training_metrics:\n",
    "                    train_metric.tf_summaries(train_step=tf.cast(agent.train_step_counter,tf.int64), step_metrics=training_metrics[:])\n",
    "                train_summary_writer.flush()\n",
    "                \n",
    "        if iteration % 100 == 0:\n",
    "            with train_summary_writer.as_default():\n",
    "                #plot train loss          \n",
    "                tf.summary.scalar('train_loss', train_loss.loss.numpy(), step=tf.cast(agent.train_step_counter,tf.int64))\n",
    "                #plot NN weights\n",
    "                for layer in  categorical_q_net.layers:\n",
    "                    for weight in layer.weights:\n",
    "                        tf.summary.histogram(weight.name,weight,step=tf.cast(agent.train_step_counter,tf.int64))\n",
    "                train_summary_writer.flush()"
   ]
  },
  {
   "cell_type": "code",
   "execution_count": 18,
   "metadata": {
    "ExecuteTime": {
     "end_time": "2022-05-11T13:02:30.591392Z",
     "start_time": "2022-05-11T13:02:30.476107Z"
    }
   },
   "outputs": [],
   "source": [
    "train_dir = os.path.join(data_log_path,\"logs/\",run_label)   \n",
    "train_summary_writer = tf.summary.create_file_writer(\n",
    "            train_dir, flush_millis=10000)\n",
    "#train_summary_writer.set_as_default()"
   ]
  },
  {
   "cell_type": "code",
   "execution_count": 19,
   "metadata": {
    "ExecuteTime": {
     "end_time": "2022-05-11T13:02:30.669293Z",
     "start_time": "2022-05-11T13:02:30.592313Z"
    },
    "scrolled": false
   },
   "outputs": [],
   "source": [
    "# Launch TensorBoard with objects in the log directory\n",
    "# This should launch tensorboard in your browser, but you may not see your metadata.\n",
    "#%tensorboard --logdir=logs --reload_interval=15"
   ]
  },
  {
   "cell_type": "code",
   "execution_count": 20,
   "metadata": {
    "ExecuteTime": {
     "end_time": "2022-05-11T13:02:30.750221Z",
     "start_time": "2022-05-11T13:02:30.673378Z"
    }
   },
   "outputs": [],
   "source": [
    "#tf.summary.scalar('avgreturn', training_metrics[3].result().numpy(), step=tf.cast(agent.train_step_counter,tf.int64))"
   ]
  },
  {
   "cell_type": "code",
   "execution_count": 21,
   "metadata": {
    "ExecuteTime": {
     "end_time": "2022-05-11T13:52:46.278515Z",
     "start_time": "2022-05-11T13:02:30.751090Z"
    },
    "scrolled": false
   },
   "outputs": [
    {
     "name": "stdout",
     "output_type": "stream",
     "text": [
      "WARNING:tensorflow:From /home/pico/anaconda3/envs/rl/lib/python3.8/site-packages/tensorflow/python/util/dispatch.py:201: calling foldr_v2 (from tensorflow.python.ops.functional_ops) with back_prop=False is deprecated and will be removed in a future version.\n",
      "Instructions for updating:\n",
      "back_prop=False is deprecated. Consider using tf.stop_gradient instead.\n",
      "Instead of:\n",
      "results = tf.foldr(fn, elems, back_prop=False)\n",
      "Use:\n",
      "results = tf.nest.map_structure(tf.stop_gradient, tf.foldr(fn, elems))\n"
     ]
    },
    {
     "name": "stderr",
     "output_type": "stream",
     "text": [
      "WARNING - 2022-05-11 15:02:32,184 - deprecation - From /home/pico/anaconda3/envs/rl/lib/python3.8/site-packages/tensorflow/python/util/dispatch.py:201: calling foldr_v2 (from tensorflow.python.ops.functional_ops) with back_prop=False is deprecated and will be removed in a future version.\n",
      "Instructions for updating:\n",
      "back_prop=False is deprecated. Consider using tf.stop_gradient instead.\n",
      "Instead of:\n",
      "results = tf.foldr(fn, elems, back_prop=False)\n",
      "Use:\n",
      "results = tf.nest.map_structure(tf.stop_gradient, tf.foldr(fn, elems))\n"
     ]
    },
    {
     "name": "stdout",
     "output_type": "stream",
     "text": [
      "9999 loss:2.79511 epsilon0.019999999552965164CPU times: user 43min 38s, sys: 9min 38s, total: 53min 17s\n",
      "Wall time: 50min 15s\n"
     ]
    }
   ],
   "source": [
    "%time train_agent(pm['misc']['n_iterations'])"
   ]
  },
  {
   "cell_type": "code",
   "execution_count": 22,
   "metadata": {
    "ExecuteTime": {
     "end_time": "2022-05-11T13:52:47.230957Z",
     "start_time": "2022-05-11T13:52:46.279827Z"
    }
   },
   "outputs": [
    {
     "name": "stderr",
     "output_type": "stream",
     "text": [
      "WARNING - 2022-05-11 15:52:47,027 - save - Found untraced functions such as CategoricalQNetwork_layer_call_fn, CategoricalQNetwork_layer_call_and_return_conditional_losses, CategoricalQNetwork_layer_call_fn, CategoricalQNetwork_layer_call_and_return_conditional_losses, CategoricalQNetwork_layer_call_fn while saving (showing 5 of 35). These functions will not be directly callable after loading.\n",
      "WARNING - 2022-05-11 15:52:47,063 - save - Found untraced functions such as CategoricalQNetwork_layer_call_fn, CategoricalQNetwork_layer_call_and_return_conditional_losses, CategoricalQNetwork_layer_call_fn, CategoricalQNetwork_layer_call_and_return_conditional_losses, CategoricalQNetwork_layer_call_fn while saving (showing 5 of 35). These functions will not be directly callable after loading.\n"
     ]
    },
    {
     "name": "stdout",
     "output_type": "stream",
     "text": [
      "INFO:tensorflow:Assets written to: /home/pico/uni/romi/scanner_cube_2d/generated_data/policies/20220511-150109/assets\n"
     ]
    },
    {
     "name": "stderr",
     "output_type": "stream",
     "text": [
      "INFO - 2022-05-11 15:52:47,209 - builder_impl - Assets written to: /home/pico/uni/romi/scanner_cube_2d/generated_data/policies/20220511-150109/assets\n"
     ]
    },
    {
     "data": {
      "text/plain": [
       "'/home/pico/uni/romi/scanner_cube_2d/generated_data/environment_code/20220511-150109.py'"
      ]
     },
     "execution_count": 22,
     "metadata": {},
     "output_type": "execute_result"
    }
   ],
   "source": [
    "#save model, parameters and code state\n",
    "policy_dir = os.path.join(data_log_path,\"policies\", run_label)\n",
    "tf_policy_saver = policy_saver.PolicySaver(agent.policy)\n",
    "tf_policy_saver.save(policy_dir)\n",
    "\n",
    "with open(os.path.join(data_log_path,\"parameters\", run_label+'.json'), 'w') as json_file:\n",
    "  json.dump(pm, json_file)\n",
    "\n",
    "src = os.path.join(current_path,\"categorical_dqn_tf_agents.ipynb\")\n",
    "dst = os.path.join(data_log_path,\"train_code\", run_label+'.ipynb')\n",
    "shutil.copyfile(src, dst)\n",
    "\n",
    "src = os.path.join(current_path,\"scan_gym/scan_gym/envs/ScannerEnv/scanner_env.py\")\n",
    "dst = os.path.join(data_log_path,\"environment_code\", run_label+'.py')\n",
    "shutil.copyfile(src, dst)"
   ]
  },
  {
   "cell_type": "code",
   "execution_count": 23,
   "metadata": {
    "ExecuteTime": {
     "end_time": "2022-05-11T13:52:53.816676Z",
     "start_time": "2022-05-11T13:52:47.231798Z"
    }
   },
   "outputs": [
    {
     "name": "stdout",
     "output_type": "stream",
     "text": [
      "plant-206_2d 4     \n",
      "206_2d rwd_mean 0.2581 rwd_std 0.0214 gt_ratio_mean 0.4307 gt_ratio_std 0.0176\n",
      "plant-207_2d 4     \n",
      "207_2d rwd_mean 0.3716 rwd_std 0.0236 gt_ratio_mean 0.5663 gt_ratio_std 0.0378\n",
      "plant-208_2d 4     \n",
      "208_2d rwd_mean 0.2160 rwd_std 0.0293 gt_ratio_mean 0.3457 gt_ratio_std 0.0296\n",
      "plant-209_2d 4     \n",
      "209_2d rwd_mean 0.2256 rwd_std 0.0267 gt_ratio_mean 0.3206 gt_ratio_std 0.0274\n",
      "plant-210_2d 4     \n",
      "210_2d rwd_mean 0.2721 rwd_std 0.0328 gt_ratio_mean 0.3895 gt_ratio_std 0.0347\n",
      "plant-211_2d 4     \n",
      "211_2d rwd_mean 0.2362 rwd_std 0.0915 gt_ratio_mean 0.3032 gt_ratio_std 0.0724\n"
     ]
    }
   ],
   "source": [
    "# test learned policy\n",
    "test_models = ['206_2d','207_2d','208_2d','209_2d','210_2d','211_2d']\n",
    "test_data = os.path.join(data_log_path,\"tests\", run_label+'.json')\n",
    "policy_test.test_policy(models_path=models_path, models=test_models, policy=agent.policy,\n",
    "                        n_images=n_images, n_episodes = 5, dest_path=test_data )"
   ]
  },
  {
   "cell_type": "code",
   "execution_count": null,
   "metadata": {
    "ExecuteTime": {
     "end_time": "2022-05-09T20:32:24.066829Z",
     "start_time": "2022-05-09T20:32:24.060616Z"
    }
   },
   "outputs": [],
   "source": []
  },
  {
   "cell_type": "code",
   "execution_count": null,
   "metadata": {},
   "outputs": [],
   "source": []
  }
 ],
 "metadata": {
  "kernelspec": {
   "display_name": "rl",
   "language": "python",
   "name": "rl"
  },
  "language_info": {
   "codemirror_mode": {
    "name": "ipython",
    "version": 3
   },
   "file_extension": ".py",
   "mimetype": "text/x-python",
   "name": "python",
   "nbconvert_exporter": "python",
   "pygments_lexer": "ipython3",
   "version": "3.8.8"
  }
 },
 "nbformat": 4,
 "nbformat_minor": 4
}
